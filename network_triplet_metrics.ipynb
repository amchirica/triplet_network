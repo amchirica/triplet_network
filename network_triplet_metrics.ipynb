{
  "nbformat": 4,
  "nbformat_minor": 0,
  "metadata": {
    "colab": {
      "provenance": [],
      "gpuType": "T4"
    },
    "kernelspec": {
      "name": "python3",
      "display_name": "Python 3"
    },
    "language_info": {
      "name": "python"
    },
    "accelerator": "GPU"
  },
  "cells": [
    {
      "cell_type": "code",
      "execution_count": 2,
      "metadata": {
        "id": "Mo8hqLHvRd7Z"
      },
      "outputs": [],
      "source": [
        "import os\n",
        "import torch\n",
        "import torch.nn as nn\n",
        "import torch.optim as optim\n",
        "from torch.utils.data import Dataset, DataLoader\n",
        "from torchvision import transforms\n",
        "from torchvision.datasets import ImageFolder\n",
        "from PIL import Image\n",
        "import numpy as np\n",
        "import matplotlib.pyplot as plt\n",
        "import zipfile\n",
        "import os"
      ]
    },
    {
      "cell_type": "code",
      "source": [
        "pip install opendatasets --upgrade"
      ],
      "metadata": {
        "colab": {
          "base_uri": "https://localhost:8080/"
        },
        "id": "mEPCluC6WU1k",
        "outputId": "75677630-5709-4ab8-cb82-0f14b8fc80f2"
      },
      "execution_count": 3,
      "outputs": [
        {
          "output_type": "stream",
          "name": "stdout",
          "text": [
            "Collecting opendatasets\n",
            "  Downloading opendatasets-0.1.22-py3-none-any.whl (15 kB)\n",
            "Requirement already satisfied: tqdm in /usr/local/lib/python3.10/dist-packages (from opendatasets) (4.66.1)\n",
            "Requirement already satisfied: kaggle in /usr/local/lib/python3.10/dist-packages (from opendatasets) (1.5.16)\n",
            "Requirement already satisfied: click in /usr/local/lib/python3.10/dist-packages (from opendatasets) (8.1.7)\n",
            "Requirement already satisfied: six>=1.10 in /usr/local/lib/python3.10/dist-packages (from kaggle->opendatasets) (1.16.0)\n",
            "Requirement already satisfied: certifi in /usr/local/lib/python3.10/dist-packages (from kaggle->opendatasets) (2023.11.17)\n",
            "Requirement already satisfied: python-dateutil in /usr/local/lib/python3.10/dist-packages (from kaggle->opendatasets) (2.8.2)\n",
            "Requirement already satisfied: requests in /usr/local/lib/python3.10/dist-packages (from kaggle->opendatasets) (2.31.0)\n",
            "Requirement already satisfied: python-slugify in /usr/local/lib/python3.10/dist-packages (from kaggle->opendatasets) (8.0.1)\n",
            "Requirement already satisfied: urllib3 in /usr/local/lib/python3.10/dist-packages (from kaggle->opendatasets) (2.0.7)\n",
            "Requirement already satisfied: bleach in /usr/local/lib/python3.10/dist-packages (from kaggle->opendatasets) (6.1.0)\n",
            "Requirement already satisfied: webencodings in /usr/local/lib/python3.10/dist-packages (from bleach->kaggle->opendatasets) (0.5.1)\n",
            "Requirement already satisfied: text-unidecode>=1.3 in /usr/local/lib/python3.10/dist-packages (from python-slugify->kaggle->opendatasets) (1.3)\n",
            "Requirement already satisfied: charset-normalizer<4,>=2 in /usr/local/lib/python3.10/dist-packages (from requests->kaggle->opendatasets) (3.3.2)\n",
            "Requirement already satisfied: idna<4,>=2.5 in /usr/local/lib/python3.10/dist-packages (from requests->kaggle->opendatasets) (3.6)\n",
            "Installing collected packages: opendatasets\n",
            "Successfully installed opendatasets-0.1.22\n"
          ]
        }
      ]
    },
    {
      "cell_type": "code",
      "source": [
        "import opendatasets as od\n",
        "dataset_url = 'https://www.kaggle.com/datasets/alsaniipe/cardatasets/data'\n",
        "od.download(dataset_url)"
      ],
      "metadata": {
        "colab": {
          "base_uri": "https://localhost:8080/"
        },
        "id": "4NfsAclNUMDW",
        "outputId": "5b342342-149e-477e-cce4-01b9bc97d39f"
      },
      "execution_count": 4,
      "outputs": [
        {
          "output_type": "stream",
          "name": "stdout",
          "text": [
            "Please provide your Kaggle credentials to download this dataset. Learn more: http://bit.ly/kaggle-creds\n",
            "Your Kaggle username: andreim08\n",
            "Your Kaggle Key: ··········\n",
            "Downloading cardatasets.zip to ./cardatasets\n"
          ]
        },
        {
          "output_type": "stream",
          "name": "stderr",
          "text": [
            "100%|██████████| 1.06M/1.06M [00:00<00:00, 1.67MB/s]"
          ]
        },
        {
          "output_type": "stream",
          "name": "stdout",
          "text": [
            "\n"
          ]
        },
        {
          "output_type": "stream",
          "name": "stderr",
          "text": [
            "\n"
          ]
        }
      ]
    },
    {
      "cell_type": "code",
      "source": [
        "# Definirea transformărilor pentru imaginile din setul de date\n",
        "transform = transforms.Compose([\n",
        "    transforms.Resize((128, 128)),\n",
        "    transforms.ToTensor(),\n",
        "])"
      ],
      "metadata": {
        "id": "L8FqcESiTOaU"
      },
      "execution_count": 5,
      "outputs": []
    },
    {
      "cell_type": "code",
      "source": [
        "dataset_path = \"/content/cardatasets\"  # Sau calea către directorul unde ai descărcat setul de date\n"
      ],
      "metadata": {
        "id": "T2HjNSeOYOJM"
      },
      "execution_count": 6,
      "outputs": []
    },
    {
      "cell_type": "code",
      "source": [
        "# Crearea setului de date folosind ImageFolder (asigură-te că ai o structură de directoare pentru clase)\n",
        "image_dataset = ImageFolder(root=dataset_path, transform=transform)"
      ],
      "metadata": {
        "id": "KNWdYPPSXqdJ"
      },
      "execution_count": 7,
      "outputs": []
    },
    {
      "cell_type": "code",
      "source": [
        "# Crearea DataLoader pentru setul de date de imagini\n",
        "batch_size = 16\n",
        "image_loader = DataLoader(image_dataset, batch_size=batch_size, shuffle=True)"
      ],
      "metadata": {
        "id": "DwkXQCw8YTsM"
      },
      "execution_count": 8,
      "outputs": []
    },
    {
      "cell_type": "code",
      "source": [
        "# Definirea modelului Triplet\n",
        "class TripletNetwork(nn.Module):\n",
        "    def __init__(self, input_size, embedding_size):\n",
        "        super(TripletNetwork, self).__init__()\n",
        "        self.embedding = nn.Sequential(\n",
        "            nn.Linear(input_size, 64),\n",
        "            nn.ReLU(),\n",
        "            nn.Linear(64, embedding_size),\n",
        "        )\n",
        "\n",
        "    def forward(self, anchor, positive, negative):\n",
        "        anchor_embedding = self.embedding(anchor)\n",
        "        positive_embedding = self.embedding(positive)\n",
        "        negative_embedding = self.embedding(negative)\n",
        "        return anchor_embedding, positive_embedding, negative_embedding"
      ],
      "metadata": {
        "id": "WnF5Y2OaYUdR"
      },
      "execution_count": 9,
      "outputs": []
    },
    {
      "cell_type": "code",
      "source": [
        "# Definirea funcției de loss Triplet\n",
        "class TripletLoss(nn.Module):\n",
        "    def __init__(self, margin=1.0):\n",
        "        super(TripletLoss, self).__init__()\n",
        "        self.margin = margin\n",
        "\n",
        "    def forward(self, anchor_embedding, positive_embedding, negative_embedding):\n",
        "        distance_positive = torch.norm(anchor_embedding - positive_embedding, dim=1)\n",
        "        distance_negative = torch.norm(anchor_embedding - negative_embedding, dim=1)\n",
        "        loss = torch.relu(distance_positive - distance_negative + self.margin)\n",
        "        return torch.mean(loss)"
      ],
      "metadata": {
        "id": "aaiFTdYBYXr7"
      },
      "execution_count": 10,
      "outputs": []
    },
    {
      "cell_type": "code",
      "source": [
        "# Definirea modelului, criteriului de loss și optimizerului\n",
        "embedding_size = 2\n",
        "input_size = 128 * 128 * 3  # Ajustează dimensiunea în funcție de setul tău de date\n",
        "model_triplet = TripletNetwork(input_size=input_size, embedding_size=embedding_size)\n",
        "triplet_criterion = TripletLoss(margin=1.0)\n",
        "optimizer = optim.Adam(model_triplet.parameters(), lr=0.001)"
      ],
      "metadata": {
        "id": "ne7ikKsHYaGy"
      },
      "execution_count": 11,
      "outputs": []
    },
    {
      "cell_type": "code",
      "source": [
        "class TripletNetwork(nn.Module):\n",
        "    def __init__(self, input_size, embedding_size):\n",
        "        super(TripletNetwork, self).__init__()\n",
        "        self.embedding = nn.Sequential(\n",
        "            nn.Linear(input_size, 256),  # Ajustat la 256\n",
        "            nn.ReLU(),\n",
        "            nn.Linear(256, embedding_size),\n",
        "        )\n",
        "\n",
        "    def forward(self, anchor, positive, negative):\n",
        "        anchor_embedding = self.embedding(anchor.view(anchor.size(0), -1))\n",
        "        positive_embedding = self.embedding(positive.view(positive.size(0), -1))\n",
        "        negative_embedding = self.embedding(negative.view(negative.size(0), -1))\n",
        "        return anchor_embedding, positive_embedding, negative_embedding\n",
        "\n"
      ],
      "metadata": {
        "id": "gbYu7RH0YcQh"
      },
      "execution_count": 12,
      "outputs": []
    },
    {
      "cell_type": "code",
      "source": [
        "# Antrenarea modelului Triplet\n",
        "num_epochs = 100\n",
        "for epoch in range(num_epochs):\n",
        "    model_triplet.train()\n",
        "    total_loss = 0.0\n",
        "\n",
        "    for batch in image_loader:\n",
        "        # Extrage imaginile din batch\n",
        "        images = batch[0]\n",
        "\n",
        "        # Flatten imaginiile într-un singur tensor\n",
        "        images = images.view(images.size(0), -1)\n",
        "\n",
        "        # Împarte tensorii în funcție de dimensiune\n",
        "        anchor_size = positive_size = negative_size = images.size(0) // 3\n",
        "\n",
        "        # Asigură-te că negative_size nu depășește numărul real de exemple disponibile\n",
        "        negative_size = min(negative_size, images.size(0) - (anchor_size + positive_size))\n",
        "\n",
        "        # Redimensionează tensorul pentru a fi divizibil cu 3\n",
        "        remaining = images.size(0) % 3\n",
        "        if remaining != 0:\n",
        "            images = images[:-remaining]\n",
        "\n",
        "        # Generează indicii negativi\n",
        "        negative_indices = torch.randint(anchor_size + positive_size, images.size(0), (negative_size,))\n",
        "\n",
        "        # Folosește indicii pentru a extrage exemplele negative\n",
        "        anchor, positive, negative = torch.split(images, [anchor_size, positive_size, negative_size])\n",
        "\n",
        "        optimizer.zero_grad()\n",
        "        anchor_embedding, positive_embedding, negative_embedding = model_triplet(anchor, positive, negative)\n",
        "        loss = triplet_criterion(anchor_embedding, positive_embedding, negative_embedding)\n",
        "        loss.backward()\n",
        "        optimizer.step()\n",
        "        total_loss += loss.item()\n",
        "\n",
        "    average_loss = total_loss / len(image_loader)\n",
        "    print(f\"Epoch [{epoch+1}/{num_epochs}], Average Loss: {average_loss:.4f}\")\n"
      ],
      "metadata": {
        "colab": {
          "base_uri": "https://localhost:8080/"
        },
        "id": "r6EIKf_KY4t6",
        "outputId": "0a0676ed-c4e5-4915-ce93-f4a5273ae0ce"
      },
      "execution_count": 21,
      "outputs": [
        {
          "output_type": "stream",
          "name": "stdout",
          "text": [
            "Epoch [1/100], Average Loss: 2.3402\n",
            "Epoch [2/100], Average Loss: 5.3382\n",
            "Epoch [3/100], Average Loss: 4.9185\n",
            "Epoch [4/100], Average Loss: 3.7119\n",
            "Epoch [5/100], Average Loss: 3.5259\n",
            "Epoch [6/100], Average Loss: 4.7389\n",
            "Epoch [7/100], Average Loss: 3.8462\n",
            "Epoch [8/100], Average Loss: 1.8902\n",
            "Epoch [9/100], Average Loss: 2.6749\n",
            "Epoch [10/100], Average Loss: 2.8089\n",
            "Epoch [11/100], Average Loss: 2.8887\n",
            "Epoch [12/100], Average Loss: 2.9113\n",
            "Epoch [13/100], Average Loss: 3.3207\n",
            "Epoch [14/100], Average Loss: 1.6444\n",
            "Epoch [15/100], Average Loss: 2.3384\n",
            "Epoch [16/100], Average Loss: 3.3469\n",
            "Epoch [17/100], Average Loss: 2.7421\n",
            "Epoch [18/100], Average Loss: 2.0124\n",
            "Epoch [19/100], Average Loss: 2.6688\n",
            "Epoch [20/100], Average Loss: 2.1103\n",
            "Epoch [21/100], Average Loss: 2.5305\n",
            "Epoch [22/100], Average Loss: 1.8628\n",
            "Epoch [23/100], Average Loss: 2.2772\n",
            "Epoch [24/100], Average Loss: 2.3247\n",
            "Epoch [25/100], Average Loss: 2.0051\n",
            "Epoch [26/100], Average Loss: 1.7971\n",
            "Epoch [27/100], Average Loss: 2.2061\n",
            "Epoch [28/100], Average Loss: 2.3284\n",
            "Epoch [29/100], Average Loss: 1.7887\n",
            "Epoch [30/100], Average Loss: 2.3225\n",
            "Epoch [31/100], Average Loss: 1.5837\n",
            "Epoch [32/100], Average Loss: 2.1099\n",
            "Epoch [33/100], Average Loss: 2.0952\n",
            "Epoch [34/100], Average Loss: 1.2296\n",
            "Epoch [35/100], Average Loss: 2.6816\n",
            "Epoch [36/100], Average Loss: 1.6404\n",
            "Epoch [37/100], Average Loss: 1.2814\n",
            "Epoch [38/100], Average Loss: 2.4082\n",
            "Epoch [39/100], Average Loss: 1.3568\n",
            "Epoch [40/100], Average Loss: 1.4040\n",
            "Epoch [41/100], Average Loss: 1.5294\n",
            "Epoch [42/100], Average Loss: 1.2051\n",
            "Epoch [43/100], Average Loss: 1.5895\n",
            "Epoch [44/100], Average Loss: 1.3016\n",
            "Epoch [45/100], Average Loss: 0.9698\n",
            "Epoch [46/100], Average Loss: 0.9923\n",
            "Epoch [47/100], Average Loss: 1.4224\n",
            "Epoch [48/100], Average Loss: 1.2121\n",
            "Epoch [49/100], Average Loss: 1.1820\n",
            "Epoch [50/100], Average Loss: 0.9349\n",
            "Epoch [51/100], Average Loss: 1.0022\n",
            "Epoch [52/100], Average Loss: 1.1137\n",
            "Epoch [53/100], Average Loss: 1.1142\n",
            "Epoch [54/100], Average Loss: 1.2322\n",
            "Epoch [55/100], Average Loss: 1.0933\n",
            "Epoch [56/100], Average Loss: 1.1838\n",
            "Epoch [57/100], Average Loss: 1.0165\n",
            "Epoch [58/100], Average Loss: 0.9399\n",
            "Epoch [59/100], Average Loss: 1.0360\n",
            "Epoch [60/100], Average Loss: 0.9912\n",
            "Epoch [61/100], Average Loss: 1.0384\n",
            "Epoch [62/100], Average Loss: 0.9649\n",
            "Epoch [63/100], Average Loss: 0.9623\n",
            "Epoch [64/100], Average Loss: 1.0878\n",
            "Epoch [65/100], Average Loss: 1.0015\n",
            "Epoch [66/100], Average Loss: 0.9327\n",
            "Epoch [67/100], Average Loss: 0.9431\n",
            "Epoch [68/100], Average Loss: 1.1037\n",
            "Epoch [69/100], Average Loss: 0.8590\n",
            "Epoch [70/100], Average Loss: 1.0618\n",
            "Epoch [71/100], Average Loss: 1.1588\n",
            "Epoch [72/100], Average Loss: 1.0977\n",
            "Epoch [73/100], Average Loss: 0.9969\n",
            "Epoch [74/100], Average Loss: 0.9813\n",
            "Epoch [75/100], Average Loss: 0.9927\n",
            "Epoch [76/100], Average Loss: 1.0137\n",
            "Epoch [77/100], Average Loss: 0.9477\n",
            "Epoch [78/100], Average Loss: 0.9121\n",
            "Epoch [79/100], Average Loss: 0.9812\n",
            "Epoch [80/100], Average Loss: 1.0548\n",
            "Epoch [81/100], Average Loss: 0.9440\n",
            "Epoch [82/100], Average Loss: 0.9747\n",
            "Epoch [83/100], Average Loss: 1.0313\n",
            "Epoch [84/100], Average Loss: 1.0268\n",
            "Epoch [85/100], Average Loss: 0.9183\n",
            "Epoch [86/100], Average Loss: 1.0143\n",
            "Epoch [87/100], Average Loss: 1.0539\n",
            "Epoch [88/100], Average Loss: 1.0407\n",
            "Epoch [89/100], Average Loss: 1.0797\n",
            "Epoch [90/100], Average Loss: 1.0050\n",
            "Epoch [91/100], Average Loss: 1.0312\n",
            "Epoch [92/100], Average Loss: 0.9794\n",
            "Epoch [93/100], Average Loss: 0.9575\n",
            "Epoch [94/100], Average Loss: 1.0288\n",
            "Epoch [95/100], Average Loss: 0.9780\n",
            "Epoch [96/100], Average Loss: 0.9439\n",
            "Epoch [97/100], Average Loss: 1.0316\n",
            "Epoch [98/100], Average Loss: 0.9622\n",
            "Epoch [99/100], Average Loss: 0.9807\n",
            "Epoch [100/100], Average Loss: 0.9760\n"
          ]
        }
      ]
    },
    {
      "cell_type": "code",
      "source": [
        "# Vizualizarea rezultatelor (embedding în spațiul bidimensional)\n",
        "model_triplet.eval()\n",
        "with torch.no_grad():\n",
        "    embeddings = []\n",
        "\n",
        "    # Parcurge setul de date și obține embedding-uri\n",
        "    for i in range(len(image_dataset)):\n",
        "        image, label = image_dataset[i]\n",
        "        embedding = model_triplet.embedding(image.unsqueeze(0).view(1, -1)).numpy()\n",
        "        embeddings.append((embedding, label))\n",
        "\n",
        "# Afișarea rezultatelor într-un plot (trebuie ajustat în funcție de numărul de clase)\n",
        "embeddings, labels = zip(*embeddings)\n",
        "embeddings = np.concatenate(embeddings, axis=0)\n",
        "plt.scatter(embeddings[:, 0], embeddings[:, 1], c=labels, cmap='viridis')\n",
        "plt.title('Embedding Space')\n",
        "plt.show()\n"
      ],
      "metadata": {
        "colab": {
          "base_uri": "https://localhost:8080/",
          "height": 452
        },
        "id": "JL_Qyd-IqtcN",
        "outputId": "952adc2e-8cf2-4b19-8bf2-da01927d45c2"
      },
      "execution_count": 22,
      "outputs": [
        {
          "output_type": "display_data",
          "data": {
            "text/plain": [
              "<Figure size 640x480 with 1 Axes>"
            ],
            "image/png": "[encoded data removed]"
          },
          "metadata": {}
        }
      ]
    }
  ]
}